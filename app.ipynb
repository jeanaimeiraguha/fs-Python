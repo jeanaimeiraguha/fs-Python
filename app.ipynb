{
 "cells": [
  {
   "cell_type": "code",
   "execution_count": null,
   "id": "8f330166",
   "metadata": {},
   "outputs": [
    {
     "name": "stdout",
     "output_type": "stream",
     "text": [
      "hello World\n"
     ]
    }
   ],
   "source": []
  },
  {
   "cell_type": "code",
   "execution_count": null,
   "id": "b939ab33",
   "metadata": {},
   "outputs": [
    {
     "name": "stdout",
     "output_type": "stream",
     "text": [
      ".git\n",
      "app.ipynb\n",
      "Iraguha\n",
      "README.md\n"
     ]
    }
   ],
   "source": [
    "\n",
    "import os\n",
    "# Creating Directory\n",
    "# os.mkdir(\"Iraguha\")\n",
    "\n",
    "# List directory\n",
    "# os.listdir()\n",
    "\n",
    "# List directory with path\n",
    "for dir in os.listdir():\n",
    "     print(dir)\n"
   ]
  },
  {
   "cell_type": "code",
   "execution_count": null,
   "id": "837a7768",
   "metadata": {},
   "outputs": [],
   "source": [
    "from pathlib import Path\n",
    "\n",
    "Path(\"demo.txt\").touch()\n",
    "os.listdir()\n",
    "# create file if not exist\n",
    "file=Path(\"demo.txt\")\n",
    "if not file.exists():\n",
    "    file.touch()    "
   ]
  },
  {
   "cell_type": "code",
   "execution_count": null,
   "id": "dd7bf280",
   "metadata": {},
   "outputs": [],
   "source": []
  }
 ],
 "metadata": {
  "kernelspec": {
   "display_name": "base",
   "language": "python",
   "name": "python3"
  },
  "language_info": {
   "codemirror_mode": {
    "name": "ipython",
    "version": 3
   },
   "file_extension": ".py",
   "mimetype": "text/x-python",
   "name": "python",
   "nbconvert_exporter": "python",
   "pygments_lexer": "ipython3",
   "version": "3.12.7"
  }
 },
 "nbformat": 4,
 "nbformat_minor": 5
}
